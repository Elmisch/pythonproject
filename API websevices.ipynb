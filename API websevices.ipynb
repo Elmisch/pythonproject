{
 "cells": [
  {
   "cell_type": "code",
   "execution_count": 1,
   "metadata": {},
   "outputs": [],
   "source": [
    "# Open de module\n",
    "from TwitterAPI import TwitterAPI"
   ]
  },
  {
   "cell_type": "code",
   "execution_count": 16,
   "metadata": {},
   "outputs": [],
   "source": [
    "# Maak een variabele 'api' aan die informatie bevat over jou Twitter API app\n",
    "\n",
    "consumer_key = 'Y3CxV9xBLd2POAx3VrJ8rJuhB'\n",
    "consumer_secret = 'cYcPfbF4bD22Ry0egkgjztG8AuvSVHNFBumwaKpJbBPTsgqX0A'\n",
    "access_token_key = '55181947-04rVM95ezi4Xr1njasfN66yXJTUphzlMNw0uoFcyu'\n",
    "access_token_secret = 'vTwFKEnlNDvyjLXFlUadHPQbPROJBppZXBE5kmcwcjgZI'\n",
    "\n",
    "api = TwitterAPI(consumer_key, consumer_secret, access_token_key, access_token_secret)"
   ]
  },
  {
   "cell_type": "code",
   "execution_count": 17,
   "metadata": {},
   "outputs": [
    {
     "name": "stdout",
     "output_type": "stream",
     "text": [
      "200\n"
     ]
    }
   ],
   "source": [
    "# Een tweet versturen\n",
    "r = api.request('statuses/update', {'status':'Tweet from Python'})\n",
    "print(r.status_code)"
   ]
  },
  {
   "cell_type": "code",
   "execution_count": 18,
   "metadata": {},
   "outputs": [],
   "source": [
    "# een 'search/tweets' opdracht naar de API opsturen om tweets op te halen\n",
    "# deze response opslaan naar een variabele genaamd 'r' (response.)\n",
    "r = api.request('search/tweets', {'q':'utrecht', 'lang':'nl'})"
   ]
  },
  {
   "cell_type": "code",
   "execution_count": 19,
   "metadata": {},
   "outputs": [],
   "source": [
    "# creeer 2 lege lijsten waarin wij de data uit de gaan opslaan\n",
    "tweets_text   = []\n",
    "tweets_date   = []\n",
    "\n",
    "# gebruik de `get_iterator()` function om uit de response de data\n",
    "# stuk voor stuk toe te voegen aan onze lijsten\n",
    "for item in r.get_iterator():\n",
    "    tweets_text.append(item['text'])\n",
    "    tweets_date.append(item['created_at'])"
   ]
  },
  {
   "cell_type": "code",
   "execution_count": 20,
   "metadata": {},
   "outputs": [
    {
     "ename": "NameError",
     "evalue": "name 'tweets_createdAt' is not defined",
     "output_type": "error",
     "traceback": [
      "\u001b[0;31m---------------------------------------------------------------------------\u001b[0m",
      "\u001b[0;31mNameError\u001b[0m                                 Traceback (most recent call last)",
      "\u001b[0;32m<ipython-input-20-16e168c5b547>\u001b[0m in \u001b[0;36m<module>\u001b[0;34m()\u001b[0m\n\u001b[0;32m----> 1\u001b[0;31m \u001b[0mlen\u001b[0m\u001b[0;34m(\u001b[0m\u001b[0mtweets_createdAt\u001b[0m\u001b[0;34m)\u001b[0m\u001b[0;34m\u001b[0m\u001b[0m\n\u001b[0m",
      "\u001b[0;31mNameError\u001b[0m: name 'tweets_createdAt' is not defined"
     ]
    }
   ],
   "source": [
    "len(tweets_createdAt)"
   ]
  },
  {
   "cell_type": "code",
   "execution_count": 21,
   "metadata": {},
   "outputs": [
    {
     "ename": "ImportError",
     "evalue": "No module named pandas",
     "output_type": "error",
     "traceback": [
      "\u001b[0;31m---------------------------------------------------------------------------\u001b[0m",
      "\u001b[0;31mImportError\u001b[0m                               Traceback (most recent call last)",
      "\u001b[0;32m<ipython-input-21-98d8496b2bba>\u001b[0m in \u001b[0;36m<module>\u001b[0;34m()\u001b[0m\n\u001b[1;32m      1\u001b[0m \u001b[0;31m# de informatie uit de request opgeslagen in lijsten samenstellen\u001b[0m\u001b[0;34m\u001b[0m\u001b[0;34m\u001b[0m\u001b[0m\n\u001b[1;32m      2\u001b[0m \u001b[0;31m# tot een data frame\u001b[0m\u001b[0;34m\u001b[0m\u001b[0;34m\u001b[0m\u001b[0m\n\u001b[0;32m----> 3\u001b[0;31m \u001b[0;32mimport\u001b[0m \u001b[0mpandas\u001b[0m \u001b[0;32mas\u001b[0m \u001b[0mpd\u001b[0m\u001b[0;34m\u001b[0m\u001b[0m\n\u001b[0m\u001b[1;32m      4\u001b[0m \u001b[0;34m\u001b[0m\u001b[0m\n\u001b[1;32m      5\u001b[0m tweets_df = pd.DataFrame({\n",
      "\u001b[0;31mImportError\u001b[0m: No module named pandas"
     ]
    }
   ],
   "source": [
    "# de informatie uit de request opgeslagen in lijsten samenstellen\n",
    "# tot een data frame\n",
    "import pandas as pd\n",
    "\n",
    "tweets_df = pd.DataFrame({\n",
    "    'tweets_date': tweets_date,\n",
    "    'tweets_text': tweets_text\n",
    "})"
   ]
  },
  {
   "cell_type": "code",
   "execution_count": null,
   "metadata": {},
   "outputs": [],
   "source": []
  }
 ],
 "metadata": {
  "kernelspec": {
   "display_name": "Python 2",
   "language": "python",
   "name": "python2"
  },
  "language_info": {
   "codemirror_mode": {
    "name": "ipython",
    "version": 2
   },
   "file_extension": ".py",
   "mimetype": "text/x-python",
   "name": "python",
   "nbconvert_exporter": "python",
   "pygments_lexer": "ipython2",
   "version": "2.7.10"
  }
 },
 "nbformat": 4,
 "nbformat_minor": 2
}
