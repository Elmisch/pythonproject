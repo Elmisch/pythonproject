{
 "cells": [
  {
   "cell_type": "code",
   "execution_count": 1,
   "metadata": {},
   "outputs": [],
   "source": [
    "from pattern.nl import singularize, pluralize, sentiment\n",
    "import pandas as pd\n",
    "from pandas.plotting import _converter\n",
    "import matplotlib.pyplot as plt"
   ]
  },
  {
   "cell_type": "code",
   "execution_count": 2,
   "metadata": {},
   "outputs": [
    {
     "data": {
      "text/plain": [
       "'criticus'"
      ]
     },
     "execution_count": 2,
     "metadata": {},
     "output_type": "execute_result"
    }
   ],
   "source": [
    "singularize(\"critici\")"
   ]
  },
  {
   "cell_type": "code",
   "execution_count": 3,
   "metadata": {},
   "outputs": [
    {
     "data": {
      "text/plain": [
       "'datums'"
      ]
     },
     "execution_count": 3,
     "metadata": {},
     "output_type": "execute_result"
    }
   ],
   "source": [
    "pluralize('datum')"
   ]
  },
  {
   "cell_type": "code",
   "execution_count": 4,
   "metadata": {},
   "outputs": [
    {
     "name": "stdout",
     "output_type": "stream",
     "text": [
      "(-1.0, 0.9)\n"
     ]
    }
   ],
   "source": [
    "## Sentiment analyse\n",
    "\n",
    "print sentiment('Wat een waardeloos ding!')"
   ]
  },
  {
   "cell_type": "code",
   "execution_count": 5,
   "metadata": {},
   "outputs": [],
   "source": [
    "reviews = pd.read_csv('TestReviews.csv', sep=';')"
   ]
  },
  {
   "cell_type": "code",
   "execution_count": 6,
   "metadata": {},
   "outputs": [
    {
     "name": "stdout",
     "output_type": "stream",
     "text": [
      "5. zeer positief\n",
      "1.0\n",
      "1.0\n",
      "4. positief\n",
      "0.7\n",
      "1.0\n",
      "2. negatief\n",
      "-0.275\n",
      "0.65\n",
      "2. negatief\n",
      "-0.373333333333\n",
      "0.53\n",
      "3. neutraal\n",
      "0.0\n",
      "0.0\n",
      "3. neutraal\n",
      "0.2\n",
      "1.0\n",
      "3. neutraal\n",
      "-0.125\n",
      "0.65\n",
      "1. zeer negatief\n",
      "-0.75\n",
      "1.0\n"
     ]
    }
   ],
   "source": [
    "# loop voor beoordelen iedere tekst\n",
    "\n",
    "gevoelens = []\n",
    "categorieen = []\n",
    "subjectiviteiten = []\n",
    "\n",
    "for i in range(0, len(reviews)):\n",
    "    gevoel = sentiment(reviews.tekst[i])\n",
    "    gevoel = str(gevoel)\n",
    "    gevoel = gevoel.split(\",\")\n",
    "    subjectiviteit = gevoel[1].strip(\")\")\n",
    "    subjectiviteit = float(subjectiviteit)\n",
    "    gevoel = gevoel[0].strip(\"(\")\n",
    "    gevoel = float(gevoel)\n",
    "    if gevoel > 0.75:\n",
    "        categorie = \"5. zeer positief\"\n",
    "    elif gevoel > 0.25:\n",
    "        categorie =  \"4. positief\"\n",
    "    elif gevoel > -0.25:\n",
    "        categorie = \"3. neutraal\"\n",
    "    elif gevoel > - 0.75:\n",
    "        categorie = \"2. negatief\"\n",
    "    else:\n",
    "                categorie =   \"1. zeer negatief\"\n",
    "    gevoelens.append(gevoel)\n",
    "    subjectiviteiten.append(subjectiviteit)\n",
    "    categorieen.append(categorie)\n",
    "    \n",
    "    print(categorie)\n",
    "    print(gevoel)\n",
    "    print(subjectiviteit)"
   ]
  },
  {
   "cell_type": "code",
   "execution_count": 7,
   "metadata": {},
   "outputs": [],
   "source": [
    "reviews[\"gevoelens\"] = gevoelens\n",
    "reviews[\"subjectiviteit\"] = subjectiviteiten\n",
    "reviews[\"categorie\"] = categorieen"
   ]
  },
  {
   "cell_type": "code",
   "execution_count": 8,
   "metadata": {},
   "outputs": [
    {
     "data": {
      "text/html": [
       "<div>\n",
       "<style scoped>\n",
       "    .dataframe tbody tr th:only-of-type {\n",
       "        vertical-align: middle;\n",
       "    }\n",
       "\n",
       "    .dataframe tbody tr th {\n",
       "        vertical-align: top;\n",
       "    }\n",
       "\n",
       "    .dataframe thead th {\n",
       "        text-align: right;\n",
       "    }\n",
       "</style>\n",
       "<table border=\"1\" class=\"dataframe\">\n",
       "  <thead>\n",
       "    <tr style=\"text-align: right;\">\n",
       "      <th></th>\n",
       "      <th>klantnummer</th>\n",
       "      <th>cijfer</th>\n",
       "      <th>tekst</th>\n",
       "      <th>gevoelens</th>\n",
       "      <th>subjectiviteit</th>\n",
       "      <th>categorie</th>\n",
       "    </tr>\n",
       "  </thead>\n",
       "  <tbody>\n",
       "    <tr>\n",
       "      <th>0</th>\n",
       "      <td>1</td>\n",
       "      <td>8</td>\n",
       "      <td>Ik vind dit een extreem goed product</td>\n",
       "      <td>1.000000</td>\n",
       "      <td>1.00</td>\n",
       "      <td>5. zeer positief</td>\n",
       "    </tr>\n",
       "    <tr>\n",
       "      <th>1</th>\n",
       "      <td>2</td>\n",
       "      <td>7</td>\n",
       "      <td>Dit apparaat werkt prima</td>\n",
       "      <td>0.700000</td>\n",
       "      <td>1.00</td>\n",
       "      <td>4. positief</td>\n",
       "    </tr>\n",
       "    <tr>\n",
       "      <th>2</th>\n",
       "      <td>3</td>\n",
       "      <td>3</td>\n",
       "      <td>Wat is dit een waardeloos ding, echt zonde van...</td>\n",
       "      <td>-0.275000</td>\n",
       "      <td>0.65</td>\n",
       "      <td>2. negatief</td>\n",
       "    </tr>\n",
       "    <tr>\n",
       "      <th>3</th>\n",
       "      <td>4</td>\n",
       "      <td>5</td>\n",
       "      <td>Niet kopen, te laat geleverd en een zeer slech...</td>\n",
       "      <td>-0.373333</td>\n",
       "      <td>0.53</td>\n",
       "      <td>2. negatief</td>\n",
       "    </tr>\n",
       "    <tr>\n",
       "      <th>4</th>\n",
       "      <td>5</td>\n",
       "      <td>6</td>\n",
       "      <td>Het kan wel beter</td>\n",
       "      <td>0.000000</td>\n",
       "      <td>0.00</td>\n",
       "      <td>3. neutraal</td>\n",
       "    </tr>\n",
       "    <tr>\n",
       "      <th>5</th>\n",
       "      <td>6</td>\n",
       "      <td>0</td>\n",
       "      <td>Lachwekkend</td>\n",
       "      <td>0.200000</td>\n",
       "      <td>1.00</td>\n",
       "      <td>3. neutraal</td>\n",
       "    </tr>\n",
       "    <tr>\n",
       "      <th>6</th>\n",
       "      <td>7</td>\n",
       "      <td>2</td>\n",
       "      <td>Wat was dit een verschrikkelijk product. Het w...</td>\n",
       "      <td>-0.125000</td>\n",
       "      <td>0.65</td>\n",
       "      <td>3. neutraal</td>\n",
       "    </tr>\n",
       "    <tr>\n",
       "      <th>7</th>\n",
       "      <td>8</td>\n",
       "      <td>2</td>\n",
       "      <td>Dit was een heel erg slecht en en teleurstelle...</td>\n",
       "      <td>-0.750000</td>\n",
       "      <td>1.00</td>\n",
       "      <td>1. zeer negatief</td>\n",
       "    </tr>\n",
       "  </tbody>\n",
       "</table>\n",
       "</div>"
      ],
      "text/plain": [
       "   klantnummer  cijfer                                              tekst  \\\n",
       "0            1       8               Ik vind dit een extreem goed product   \n",
       "1            2       7                           Dit apparaat werkt prima   \n",
       "2            3       3  Wat is dit een waardeloos ding, echt zonde van...   \n",
       "3            4       5  Niet kopen, te laat geleverd en een zeer slech...   \n",
       "4            5       6                                  Het kan wel beter   \n",
       "5            6       0                                        Lachwekkend   \n",
       "6            7       2  Wat was dit een verschrikkelijk product. Het w...   \n",
       "7            8       2  Dit was een heel erg slecht en en teleurstelle...   \n",
       "\n",
       "   gevoelens  subjectiviteit         categorie  \n",
       "0   1.000000            1.00  5. zeer positief  \n",
       "1   0.700000            1.00       4. positief  \n",
       "2  -0.275000            0.65       2. negatief  \n",
       "3  -0.373333            0.53       2. negatief  \n",
       "4   0.000000            0.00       3. neutraal  \n",
       "5   0.200000            1.00       3. neutraal  \n",
       "6  -0.125000            0.65       3. neutraal  \n",
       "7  -0.750000            1.00  1. zeer negatief  "
      ]
     },
     "execution_count": 8,
     "metadata": {},
     "output_type": "execute_result"
    }
   ],
   "source": [
    "import matplotlib.pyplot\n",
    "reviews"
   ]
  },
  {
   "cell_type": "code",
   "execution_count": 9,
   "metadata": {},
   "outputs": [],
   "source": [
    "plt.style.use('ggplot')"
   ]
  },
  {
   "cell_type": "code",
   "execution_count": 10,
   "metadata": {},
   "outputs": [
    {
     "data": {
      "text/plain": [
       "<matplotlib.axes._subplots.AxesSubplot at 0x1041c9410>"
      ]
     },
     "execution_count": 10,
     "metadata": {},
     "output_type": "execute_result"
    },
    {
     "data": {
      "image/png": "[encoded data removed]",
      "text/plain": [
       "<Figure size 432x288 with 1 Axes>"
      ]
     },
     "metadata": {},
     "output_type": "display_data"
    }
   ],
   "source": [
    "plt.figure();\n",
    "reviews.gevoelens.plot(kind='bar')"
   ]
  },
  {
   "cell_type": "code",
   "execution_count": 11,
   "metadata": {},
   "outputs": [],
   "source": [
    "plt.show()"
   ]
  },
  {
   "cell_type": "code",
   "execution_count": 12,
   "metadata": {},
   "outputs": [
    {
     "data": {
      "image/png": "[encoded data removed]",
      "text/plain": [
       "<Figure size 432x288 with 1 Axes>"
      ]
     },
     "metadata": {},
     "output_type": "display_data"
    }
   ],
   "source": [
    "reviews.categorie.value_counts().sort_index().plot(kind='bar', color = [\"darkred\", \"red\",\"orange\", \"lightgreen\",\"green\"])\n",
    "plt.show()"
   ]
  },
  {
   "cell_type": "code",
   "execution_count": 13,
   "metadata": {},
   "outputs": [],
   "source": [
    "# Exporteer bestand als csv\n",
    "reviews.to_csv(\"SentimentReviews\", sep=';')"
   ]
  },
  {
   "cell_type": "code",
   "execution_count": null,
   "metadata": {},
   "outputs": [],
   "source": []
  }
 ],
 "metadata": {
  "kernelspec": {
   "display_name": "Python 2",
   "language": "python",
   "name": "python2"
  },
  "language_info": {
   "codemirror_mode": {
    "name": "ipython",
    "version": 2
   },
   "file_extension": ".py",
   "mimetype": "text/x-python",
   "name": "python",
   "nbconvert_exporter": "python",
   "pygments_lexer": "ipython2",
   "version": "2.7.10"
  }
 },
 "nbformat": 4,
 "nbformat_minor": 2
}
