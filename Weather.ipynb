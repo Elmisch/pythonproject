{
 "cells": [
  {
   "cell_type": "code",
   "execution_count": 1,
   "metadata": {},
   "outputs": [],
   "source": [
    "# gebruik de 'weater' module en wijs een 'weater' object toe\n",
    "from weather import Weather\n",
    "weather = Weather()"
   ]
  },
  {
   "cell_type": "code",
   "execution_count": 3,
   "metadata": {},
   "outputs": [
    {
     "name": "stdout",
     "output_type": "stream",
     "text": [
      "Partly Cloudy\n"
     ]
    }
   ],
   "source": [
    "# Weer van vandaag\n",
    "lookup = weather.lookup(729139)\n",
    "condition = lookup.condition\n",
    "print(condition.text)"
   ]
  },
  {
   "cell_type": "code",
   "execution_count": 7,
   "metadata": {},
   "outputs": [
    {
     "name": "stdout",
     "output_type": "stream",
     "text": [
      "Sunny\n"
     ]
    }
   ],
   "source": [
    "# Lookup via location name.\n",
    "\n",
    "location = weather.lookup_by_location('alkmaar')\n",
    "condition = location.condition\n",
    "print(condition.text)"
   ]
  },
  {
   "cell_type": "code",
   "execution_count": 11,
   "metadata": {},
   "outputs": [],
   "source": [
    "# Weer komende dagen\n",
    "# Get weather forecasts for the upcoming days.\n",
    "\n",
    "forecast_text = []\n",
    "forecast_date = []\n",
    "forecast_high = []\n",
    "forecast_low  = []\n",
    "\n",
    "forecasts = location.forecast\n",
    "for forecast in forecasts:\n",
    "    forecast_text.append(forecast.text)\n",
    "    forecast_date.append(forecast.date)\n",
    "    forecast_high.append(forecast.high)\n",
    "    forecast_low.append(forecast.low)"
   ]
  },
  {
   "cell_type": "code",
   "execution_count": 25,
   "metadata": {},
   "outputs": [
    {
     "ename": "SyntaxError",
     "evalue": "invalid syntax (<ipython-input-25-f03b84d6eb75>, line 2)",
     "output_type": "error",
     "traceback": [
      "\u001b[0;36m  File \u001b[0;32m\"<ipython-input-25-f03b84d6eb75>\"\u001b[0;36m, line \u001b[0;32m2\u001b[0m\n\u001b[0;31m    weather_df = pd.DataFrame {\u001b[0m\n\u001b[0m                              ^\u001b[0m\n\u001b[0;31mSyntaxError\u001b[0m\u001b[0;31m:\u001b[0m invalid syntax\n"
     ]
    }
   ],
   "source": [
    "# de data frame samenstellen\n",
    "weather_df = pd.DataFrame {\n",
    "    'Date': forecast_date,\n",
    "    'Text': forecast_text,\n",
    "    'High': forecast_high,\n",
    "    'Low' : forecast_low\n",
    "    }"
   ]
  },
  {
   "cell_type": "code",
   "execution_count": null,
   "metadata": {},
   "outputs": [],
   "source": []
  }
 ],
 "metadata": {
  "kernelspec": {
   "display_name": "Python 2",
   "language": "python",
   "name": "python2"
  },
  "language_info": {
   "codemirror_mode": {
    "name": "ipython",
    "version": 2
   },
   "file_extension": ".py",
   "mimetype": "text/x-python",
   "name": "python",
   "nbconvert_exporter": "python",
   "pygments_lexer": "ipython2",
   "version": "2.7.10"
  }
 },
 "nbformat": 4,
 "nbformat_minor": 2
}
