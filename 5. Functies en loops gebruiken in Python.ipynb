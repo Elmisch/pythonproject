{
 "cells": [
  {
   "cell_type": "markdown",
   "metadata": {},
   "source": [
    "# Handig gebruik maken van functies en loops in Python\n",
    "\n",
    "Functies zijn misschien wel de belangrijkste bouwstenen van een programmeertaal. Als je in Python programmeert, maak je al vaker gebruik van functies dan je denkt. Veel functies zijn al in Python inbegrepen of zijn beschikbaar door het installeren van extra modules. Deze modules bevatten functies die zijn geschreven door andere personen. Het mooie is, jij kunt zelf je eigen functies schrijven en ervoor zorgen dat ze precies doen wat jij wilt! In dit hoofdstuk gaan we het onderwerp functies uitgebreid behandelen door er zelf een paar te schrijven."
   ]
  },
  {
   "cell_type": "markdown",
   "metadata": {},
   "source": [
    "## Een functie schrijven\n",
    "\n",
    "In python begin je een functie met de term `def` met vervolgens de naam van de functie en eventueel een parameter."
   ]
  },
  {
   "cell_type": "markdown",
   "metadata": {},
   "source": [
    "### Een functie zonder parameter"
   ]
  },
  {
   "cell_type": "code",
   "execution_count": 1,
   "metadata": {},
   "outputs": [],
   "source": [
    "def greet():\n",
    "    print(\"Hello\")"
   ]
  },
  {
   "cell_type": "markdown",
   "metadata": {},
   "source": [
    "De functie kun je gebruiken door de naam van de functie in te voeren met de haakjes en daarin eventuele parameters die nodig zijn. In onze `groet()` functie hebben wij geen parameters gedefinieerd, dus kunnen we deze functies met lege haakjes gewoon uitvoeren."
   ]
  },
  {
   "cell_type": "code",
   "execution_count": 2,
   "metadata": {},
   "outputs": [
    {
     "ename": "TypeError",
     "evalue": "greet() takes 0 positional arguments but 1 was given",
     "output_type": "error",
     "traceback": [
      "\u001b[0;31m---------------------------------------------------------------------------\u001b[0m",
      "\u001b[0;31mTypeError\u001b[0m                                 Traceback (most recent call last)",
      "\u001b[0;32m<ipython-input-2-7bfcdcc5d567>\u001b[0m in \u001b[0;36m<module>\u001b[0;34m()\u001b[0m\n\u001b[0;32m----> 1\u001b[0;31m \u001b[0mgreet\u001b[0m\u001b[0;34m(\u001b[0m\u001b[0;34m\"Arie\"\u001b[0m\u001b[0;34m)\u001b[0m\u001b[0;34m\u001b[0m\u001b[0m\n\u001b[0m",
      "\u001b[0;31mTypeError\u001b[0m: greet() takes 0 positional arguments but 1 was given"
     ]
    }
   ],
   "source": [
    "greet(\"Arie\")"
   ]
  },
  {
   "cell_type": "markdown",
   "metadata": {},
   "source": [
    "### Een functie met parameter\n",
    "\n",
    "We kunnen ook parameters toevoegen aan onze functie. Dit zijn waarden die als variabele in de functie worden meegenomen en vervolgens in de functie kan worden gebruikt."
   ]
  },
  {
   "cell_type": "code",
   "execution_count": 3,
   "metadata": {},
   "outputs": [],
   "source": [
    "def greetName(name):\n",
    "    print(\"Hello \" + name)"
   ]
  },
  {
   "cell_type": "code",
   "execution_count": 6,
   "metadata": {},
   "outputs": [
    {
     "name": "stdout",
     "output_type": "stream",
     "text": [
      "Hello Arie\n"
     ]
    }
   ],
   "source": [
    "greetName(\"Arie\")"
   ]
  },
  {
   "cell_type": "markdown",
   "metadata": {},
   "source": [
    "In de bovenstaande functie hebben we gedefinieerd dat de `groetNaam()` functie een parameter moet hebben met de naam van de persoon die gegroet moet worden. We moeten dus een naam invoeren om de functie succesvol te kunnen gebruiken. Zie ook hoe de parameter als variabele wordt gebruikt in de functie."
   ]
  },
  {
   "cell_type": "code",
   "execution_count": 4,
   "metadata": {},
   "outputs": [
    {
     "name": "stdout",
     "output_type": "stream",
     "text": [
      "Hello Arie\n"
     ]
    }
   ],
   "source": [
    "greetName(\"Arie\")"
   ]
  },
  {
   "cell_type": "markdown",
   "metadata": {},
   "source": [
    "Als we geen parameter toevoegen, krijgen we een foutmelding die aangeeft dat we een parameter (argument) missen."
   ]
  },
  {
   "cell_type": "code",
   "execution_count": 5,
   "metadata": {},
   "outputs": [
    {
     "ename": "TypeError",
     "evalue": "greetName() missing 1 required positional argument: 'name'",
     "output_type": "error",
     "traceback": [
      "\u001b[0;31m---------------------------------------------------------------------------\u001b[0m",
      "\u001b[0;31mTypeError\u001b[0m                                 Traceback (most recent call last)",
      "\u001b[0;32m<ipython-input-5-411094b2f7c6>\u001b[0m in \u001b[0;36m<module>\u001b[0;34m()\u001b[0m\n\u001b[0;32m----> 1\u001b[0;31m \u001b[0mgreetName\u001b[0m\u001b[0;34m(\u001b[0m\u001b[0;34m)\u001b[0m\u001b[0;34m\u001b[0m\u001b[0m\n\u001b[0m",
      "\u001b[0;31mTypeError\u001b[0m: greetName() missing 1 required positional argument: 'name'"
     ]
    }
   ],
   "source": [
    "greetName()"
   ]
  },
  {
   "cell_type": "markdown",
   "metadata": {},
   "source": [
    "### Een functie met meerdere parameters\n",
    "\n",
    "In een functie kun je zoveel parameters toevoegen als je wilt, voor de handigheid is het beter om het aantal parameters zo laag mogelijk te houden."
   ]
  },
  {
   "cell_type": "code",
   "execution_count": 36,
   "metadata": {},
   "outputs": [],
   "source": [
    "def extendedGreet(naam, naamVrouw, woonplaats):\n",
    "    zin1 = \"Hey \" + naam + \". Hoe gaat het met je vrouw \" + naamVrouw + \"?\"\n",
    "    zin2 = \"Heb je nog steeds dat mooie huis in \" + woonplaats + \"?\"\n",
    "    return zin1, zin2"
   ]
  },
  {
   "cell_type": "markdown",
   "metadata": {},
   "source": [
    "Het kan ook het geval zijn dat parameters (arguments) optioneel zijn. Dit betekend dat het niet altijd nodig om alle parameters in de functie in te voeren."
   ]
  },
  {
   "cell_type": "markdown",
   "metadata": {},
   "source": [
    "Naast het simpelweg printen van uitkomsten, is het veel nuttiger als een functie een resultaat teruggeeft. Dit is bij de meeste functies het geval. Hiervoor gebruiken we `return`. "
   ]
  },
  {
   "cell_type": "code",
   "execution_count": 21,
   "metadata": {},
   "outputs": [],
   "source": [
    "# Een functie om de leeftijd te berekenen op basis van het geboortejaar\n",
    "import datetime\n",
    "\n",
    "def age(birthYear):\n",
    "    now = datetime.datetime.now()\n",
    "    currentYear   = now.year\n",
    "    age = currentYear - birthYear\n",
    "    return age\n",
    "    "
   ]
  },
  {
   "cell_type": "code",
   "execution_count": 22,
   "metadata": {},
   "outputs": [
    {
     "data": {
      "text/plain": [
       "58"
      ]
     },
     "execution_count": 22,
     "metadata": {},
     "output_type": "execute_result"
    }
   ],
   "source": [
    "age(1960)"
   ]
  },
  {
   "cell_type": "markdown",
   "metadata": {},
   "source": [
    "Het is ook mogelijk om meerdere waarden terug te geven uit een functie door middel van `return`."
   ]
  },
  {
   "cell_type": "code",
   "execution_count": 26,
   "metadata": {},
   "outputs": [],
   "source": [
    "def ages(birthYear):\n",
    "    now = datetime.datetime.now()\n",
    "    currentYear   = now.year\n",
    "    age = currentYear - birthYear\n",
    "    dogsAge  = age / 7\n",
    "    return age, dogsAge"
   ]
  },
  {
   "cell_type": "code",
   "execution_count": 27,
   "metadata": {},
   "outputs": [
    {
     "data": {
      "text/plain": [
       "(28, 4.0)"
      ]
     },
     "execution_count": 27,
     "metadata": {},
     "output_type": "execute_result"
    }
   ],
   "source": [
    "ages(1990)"
   ]
  },
  {
   "cell_type": "markdown",
   "metadata": {},
   "source": [
    "Door functies die meer dan 1 waarde teruggeven, kunnen meerdere variabelen tegelijkertijd aangemaakt worden:"
   ]
  },
  {
   "cell_type": "code",
   "execution_count": 28,
   "metadata": {},
   "outputs": [
    {
     "name": "stdout",
     "output_type": "stream",
     "text": [
      "Mijn mensenleeftijd is 28, en mijn hondenleeftijd is 4.0.\n"
     ]
    }
   ],
   "source": [
    "age, dogsAge = ages(1990)\n",
    "\n",
    "print(\"Mijn mensenleeftijd is \" + str(age) + \", en mijn hondenleeftijd is \" + str(dogsAge) + \".\")"
   ]
  },
  {
   "cell_type": "markdown",
   "metadata": {},
   "source": [
    "## If-statements\n",
    "\n",
    "If-statements kunnen gebruikt worden om te evalueren als er aan een bepaalde conditie voldaan wordt en dit te laten vervolgend door een bepaalde actie. Als voorbeeld maken we een lijst met leeftijden. We gebruiken een functie die kijkt naar de grootte van de lijst, dus hoeveel leeftijden er in de lijst zijn opgeslagen, en op basis daarvan de groep bestempeld als groot (\"Large\") of klein (\"Small\")."
   ]
  },
  {
   "cell_type": "code",
   "execution_count": 49,
   "metadata": {},
   "outputs": [],
   "source": [
    "# reeks getallen\n",
    "ages = [17, 21, 27, 53, 13, 35, 87, 23, 44, 23, 34, 31, 27, 82, 32, 28, 29, 29, 18, 31, 51]\n",
    "\n",
    "if len(ages) > 20:\n",
    "    groupType = \"Large\"\n",
    "else:\n",
    "    groupType = \"Small\""
   ]
  },
  {
   "cell_type": "code",
   "execution_count": 50,
   "metadata": {},
   "outputs": [
    {
     "data": {
      "text/plain": [
       "'Large'"
      ]
     },
     "execution_count": 50,
     "metadata": {},
     "output_type": "execute_result"
    }
   ],
   "source": [
    "groupType"
   ]
  },
  {
   "cell_type": "code",
   "execution_count": 51,
   "metadata": {},
   "outputs": [
    {
     "data": {
      "text/plain": [
       "21"
      ]
     },
     "execution_count": 51,
     "metadata": {},
     "output_type": "execute_result"
    }
   ],
   "source": [
    "len(ages)"
   ]
  },
  {
   "cell_type": "markdown",
   "metadata": {},
   "source": [
    "Dit kan ook met meerdere condities. Hiervoor maak je handig gebruik van het `elif` statement, dit is eigenlijk een combinatie van het `if` en het `else` statement (in sommige talen wordt *elseif* gebruikt). Hierbij kunnen we een andere uitkomst opvangen en daar een actie aan koppelen. Vervolgens kunnen we met het `else` statement aangeven wat er moet gebeuren als het resultaat niet aan het `if`-statement en niet aan het `elif` statement voldoet.\n",
    "\n",
    "In het onderstaande voorbeeld breiden we het eerder gebruikte `if` statement uit met een extra mogelijkheid \"Medium\". Zie hoe wij met de `and` operator twee condities aangeven."
   ]
  },
  {
   "cell_type": "code",
   "execution_count": 53,
   "metadata": {},
   "outputs": [
    {
     "data": {
      "text/plain": [
       "'Medium'"
      ]
     },
     "execution_count": 53,
     "metadata": {},
     "output_type": "execute_result"
    }
   ],
   "source": [
    "if len(ages) > 30:\n",
    "    groupType = \"Large\"\n",
    "elif len(ages) > 20 and len(ages) <= 30:\n",
    "    groupType = \"Medium\"\n",
    "else:\n",
    "    groupType = \"Small\"\n",
    "    \n",
    "groupType"
   ]
  },
  {
   "cell_type": "markdown",
   "metadata": {},
   "source": [
    "### Een functie en een if statement combineren\n",
    "\n",
    "If statements kun je prima in functies gebruiken. Hiermee kun je op basis van de uitkomst bepalen wat er door de functie moet worden teruggegeven. In het onderstaande voorbeeld wordt een functie geschreven waar wij een lijst kunnen invoeren om vervolgens de beoordeling van de grootte van de lijst terug te krijgen."
   ]
  },
  {
   "cell_type": "code",
   "execution_count": 54,
   "metadata": {},
   "outputs": [],
   "source": [
    "def checkGroup(group):\n",
    "    if len(group) > 30:\n",
    "        groupType = \"Large\"\n",
    "    elif len(group) > 20 and len(group) < 30:\n",
    "        groupType = \"Medium\"\n",
    "    else:\n",
    "        groupType = \"Small\"\n",
    "    return groupType"
   ]
  },
  {
   "cell_type": "code",
   "execution_count": 55,
   "metadata": {},
   "outputs": [
    {
     "data": {
      "text/plain": [
       "'Medium'"
      ]
     },
     "execution_count": 55,
     "metadata": {},
     "output_type": "execute_result"
    }
   ],
   "source": [
    "checkGroup(ages)"
   ]
  },
  {
   "cell_type": "markdown",
   "metadata": {},
   "source": [
    "## Loops\n",
    "\n",
    "Loops kunnen heel handig zijn voor repeterende taken. Door loops te gebruiken in bepaalde stukken code, kun je jezelf veel werk besparen in het schrijven van code. Een simpel voorbeeld van een loop:"
   ]
  },
  {
   "cell_type": "code",
   "execution_count": 56,
   "metadata": {},
   "outputs": [
    {
     "name": "stdout",
     "output_type": "stream",
     "text": [
      "Hey\n",
      "Hey\n",
      "Hey\n"
     ]
    }
   ],
   "source": [
    "# print 3 keer het woord \"Hey\"\n",
    "for i in range(0,3):\n",
    "    print(\"Hey\")"
   ]
  },
  {
   "cell_type": "markdown",
   "metadata": {},
   "source": [
    "Dit is veel handiger dan op de volgende manier 3 keer het woord \"Hey\" te printen:"
   ]
  },
  {
   "cell_type": "code",
   "execution_count": 57,
   "metadata": {},
   "outputs": [
    {
     "name": "stdout",
     "output_type": "stream",
     "text": [
      "Hey\n",
      "Hey\n",
      "Hey\n"
     ]
    }
   ],
   "source": [
    "print(\"Hey\")\n",
    "print(\"Hey\")\n",
    "print(\"Hey\")"
   ]
  },
  {
   "cell_type": "markdown",
   "metadata": {},
   "source": [
    "In Python begin je een loop met de term `for`. Na `for` gebruiken wij een placeholder `i`  en een range waarmee wij aangeven hoevaak het onderwerp herhaald moet worden. In het geval van het bovenstaande voorbeeld 3 keer, `range(0,3)` betekend namelijk 0 *tot* 3.I\n",
    "In het geval van het vorige voorbeeld is er geen sprake van een placeholder en wordt dus alleen de range gebruikt. In het volgende voorbeeld zien we wanneer een placeholder wel belangrijk is. We gaan nu mensen groeten bij naam, daarvoor maken wij eerst een lijst met namen en voeden die vervolgens aan de loop: "
   ]
  },
  {
   "cell_type": "code",
   "execution_count": 71,
   "metadata": {},
   "outputs": [],
   "source": [
    "names = [\"John\", \"Jane\", \"Peter\", \"William\", \"Rose\"]"
   ]
  },
  {
   "cell_type": "code",
   "execution_count": 74,
   "metadata": {},
   "outputs": [
    {
     "data": {
      "text/plain": [
       "'John'"
      ]
     },
     "execution_count": 74,
     "metadata": {},
     "output_type": "execute_result"
    }
   ],
   "source": [
    "print(names[0])\n",
    "print(names[1])\n",
    "print(names[2])\n",
    "print(names[3])\n",
    "print(names[4])"
   ]
  },
  {
   "cell_type": "code",
   "execution_count": 84,
   "metadata": {},
   "outputs": [
    {
     "name": "stdout",
     "output_type": "stream",
     "text": [
      "Hey John\n",
      "Hey Jane\n",
      "Hey Peter\n",
      "Hey William\n",
      "Hey Rose\n"
     ]
    }
   ],
   "source": [
    "# \n",
    "names = [\"John\", \"Jane\", \"Peter\", \"William\", \"Rose\"]\n",
    "\n",
    "for i in range(0,len(names)):\n",
    "    print(\"Hey \" + names[i])"
   ]
  },
  {
   "cell_type": "code",
   "execution_count": 81,
   "metadata": {},
   "outputs": [
    {
     "name": "stdout",
     "output_type": "stream",
     "text": [
      "Hey John\n",
      "Hey Jane\n",
      "Hey Peter\n",
      "Hey William\n",
      "Hey Rose\n"
     ]
    }
   ],
   "source": [
    "for i in names:\n",
    "    print(\"Hey \" + i)"
   ]
  },
  {
   "cell_type": "markdown",
   "metadata": {},
   "source": [
    "Wat gebeurd hier? Zoals je kunt zien, bestaat de lijst `names` uit 5 namen. In Python kun je elementen uit een lijst selecteren door de lijst te noemen met daarachter de positie. **Let op dat een eerste element in python bij 0 begint en niet bij 1.**. Als wij de eerste naam uit de lijst willen selecteren, moeten wij dus `names[0]` invoeren, `names[1]` zal het tweede element in de lijst teruggeven:"
   ]
  },
  {
   "cell_type": "code",
   "execution_count": 60,
   "metadata": {},
   "outputs": [
    {
     "name": "stdout",
     "output_type": "stream",
     "text": [
      "John\n",
      "Jane\n"
     ]
    }
   ],
   "source": [
    "print(names[0])\n",
    "print(names[1])"
   ]
  },
  {
   "cell_type": "markdown",
   "metadata": {},
   "source": [
    "De placeholder `i` loopt 5 keer door de `print` functie heen omdat wij dat aangeven met `range(0,5)`. De loop heeft dus 5 rondes waarin de waarde eerst `0`, dan `1`, `2`, `3` en als laatst `4` is. Hiermee selecteerd hij bij iedere ronde een element uit de lijst waardoor er bij iedere ronde een andere naam wordt gegroet."
   ]
  },
  {
   "cell_type": "markdown",
   "metadata": {},
   "source": [
    "## Waar het allemaal bij elkaar komt"
   ]
  },
  {
   "cell_type": "markdown",
   "metadata": {},
   "source": [
    "Om dit hoofdstuk af te sluiten, gaan we een paar voorbeelden behandelen waarbij gecombineeerd gebruik wordt gemaakt van *functies*, *if-statements* en *loops* in Python. Om begrip te krijgen over de opbouw van de functies, wordt er aan de hand van *comments* (regels code die beginnen met een `#`) uitgelegd waarom de regel code wordt uitgevoerd."
   ]
  },
  {
   "cell_type": "markdown",
   "metadata": {},
   "source": [
    "### Even en oneven getallen"
   ]
  },
  {
   "cell_type": "code",
   "execution_count": 22,
   "metadata": {},
   "outputs": [],
   "source": [
    "# definieer twee lijsten met getallen\n",
    "numbers = [14,15,17,24,26,27,30,33,37,39,40,45,49,52,53,61]\n",
    "#numbers2 = [13,16,17,22,26,27,30,34,37,40,41,42,45,48,49,53]"
   ]
  },
  {
   "cell_type": "code",
   "execution_count": 91,
   "metadata": {},
   "outputs": [],
   "source": [
    "# Een functie schrijven om de even en oneven getallen uit beide lijsten te verzamelen\n",
    "\n",
    "def oddEqual(numbers):\n",
    "    # Er moeten twee lege lijsten worden gedefinieerd. Deze worden gevuld met de resultaten:\n",
    "    equalNumbers   = list()         \n",
    "    oddNumbers = list()\n",
    "    # Ieder nummber in de lijst moet worden gecheckt, vandaar dat we een loop gebruiken\n",
    "    for i in numbers:\n",
    "        # We gebruiken de 'modulo' operator om te checken of een getal is op te delen in twee gelijke\n",
    "        # Dit kan niet met een oneven getal, de ideale manier om te testen of een getal even of oneven is. \n",
    "        if i % 2 == 0:\n",
    "            # Als een getal even is, voegen wij deze toe aan de lijst met even getallen \"equalNumbers\"\n",
    "            equalNumbers.append(i)\n",
    "        else:\n",
    "            # Als een getal oneven is, voegen wij deze toe aan de lijst met even ongetallen \"oddNumbers\"\n",
    "            oddNumbers.append(i)\n",
    "    # Ten slotte willen we dat de functie de twee lijsten, de lijst met even getallen en oneven getallen, teruggeeft\n",
    "    return equalNumbers, oddNumbers\n",
    "\n",
    "# Zonder het commentaar ziet de functie er als volgt uit:\n",
    "\n",
    "def oddEqual(numbers):\n",
    "    equalNumbers   = list()         \n",
    "    oddNumbers = list()\n",
    "    for i in numbers:\n",
    "        if i % 2 == 0:\n",
    "            equalNumbers.append(i)\n",
    "        else:\n",
    "            oddNumbers.append(i)\n",
    "    return equalNumbers, oddNumbers"
   ]
  },
  {
   "cell_type": "code",
   "execution_count": 92,
   "metadata": {},
   "outputs": [
    {
     "ename": "TypeError",
     "evalue": "oddEqual() missing 1 required positional argument: 'numbers'",
     "output_type": "error",
     "traceback": [
      "\u001b[0;31m---------------------------------------------------------------------------\u001b[0m",
      "\u001b[0;31mTypeError\u001b[0m                                 Traceback (most recent call last)",
      "\u001b[0;32m<ipython-input-92-1b286f812555>\u001b[0m in \u001b[0;36m<module>\u001b[0;34m()\u001b[0m\n\u001b[0;32m----> 1\u001b[0;31m \u001b[0moddEqual\u001b[0m\u001b[0;34m(\u001b[0m\u001b[0;34m)\u001b[0m\u001b[0;34m\u001b[0m\u001b[0m\n\u001b[0m",
      "\u001b[0;31mTypeError\u001b[0m: oddEqual() missing 1 required positional argument: 'numbers'"
     ]
    }
   ],
   "source": [
    "oddEqual()"
   ]
  },
  {
   "cell_type": "markdown",
   "metadata": {},
   "source": [
    "Merk op dat wij hier gebruik maken van een functie, loop en if statement. Deze functie verdeeld de lijst met even en oneven getallen in twee lijsten waar deze waarden gesorteerd zijn. In het onderstaande voorbeeld kun je zien dat de functie de twee lijsten teruggeeft, ze worden achter elkaar geplaatst."
   ]
  },
  {
   "cell_type": "code",
   "execution_count": 26,
   "metadata": {},
   "outputs": [
    {
     "data": {
      "text/plain": [
       "([14, 24, 26, 30, 40, 52], [15, 17, 27, 33, 37, 39, 45, 49, 53, 61])"
      ]
     },
     "execution_count": 26,
     "metadata": {},
     "output_type": "execute_result"
    }
   ],
   "source": [
    "oddEqual(numbers1)"
   ]
  },
  {
   "cell_type": "markdown",
   "metadata": {},
   "source": [
    "We kunnen deze lijsten in 1 keer toewijzen aan twee variabelen door de functie toe te passen:"
   ]
  },
  {
   "cell_type": "code",
   "execution_count": 27,
   "metadata": {},
   "outputs": [
    {
     "name": "stdout",
     "output_type": "stream",
     "text": [
      "[14, 24, 26, 30, 40, 52]\n",
      "[15, 17, 27, 33, 37, 39, 45, 49, 53, 61]\n"
     ]
    }
   ],
   "source": [
    "equal_numbers, odd_numbers = oddEqual(numbers1)\n",
    "print(equal_numbers)\n",
    "print(odd_numbers)"
   ]
  },
  {
   "cell_type": "markdown",
   "metadata": {},
   "source": [
    "### Hoger en lager\n",
    "\n",
    "In dit voorbeeld gaan we een functie schrijven die bij twee lijsten met getallen beoordeeld of een getal hoger, lager of gelijk aan de waarde in de tweede lijst is. We gebruiken hiervoor dezelfde lijsten die we in het vorige voorbeeld hebben gebruikt: `numbers1` en `numbers2`."
   ]
  },
  {
   "cell_type": "code",
   "execution_count": 66,
   "metadata": {},
   "outputs": [],
   "source": [
    "# Een functie schrijven die per lijst vergelijkt welke waarde hoger was\n",
    "def compareLists(numbers1, numbers2):\n",
    "    # we maken een lege lijst aan die om de beoordelingen in te verzamelen\n",
    "    check = list()\n",
    "    # iedere waarde in de lijsten moeten gecheckt worden, daarvoor gebruiken we een loop\n",
    "    for i in range(0, len(numbers1)):\n",
    "        # voor ieder getal in de lijst wijzen we twee tijdelijke variabelen aan, a en b\n",
    "        a = numbers1[i]\n",
    "        b = numbers2[i]\n",
    "        # als a, het getal uit de eerste lijst, hoger is dan b, het getal uit de tweede lijst\n",
    "        # geven we het resultaat \"higher\"\n",
    "        if a > b:\n",
    "            result = \"higher\"\n",
    "            # we voegen het resultaat toe aan de lijst die de resultaten verzameld\n",
    "            check.append(result)\n",
    "        # als a, het getal uit de eerste lijst, lager is dan b, het getal uit de tweede lijst\n",
    "        # geven we het resultaat \"lower\"\n",
    "        elif a < b:\n",
    "            result = \"lower\"\n",
    "            # we voegen het resultaat toe aan de lijst die de resultaten verzameld.\n",
    "            check.append(result)\n",
    "        # als a, het getal uit de eerste lijst niet hoger en niet lager is dan het getal \n",
    "        # uit de tweede lijst, geven we het resultaat \"equal\"\n",
    "        else:\n",
    "            result = \"equal\"\n",
    "            # we voegen het resultaat toe aan de lijst die de resultaten verzameld.\n",
    "            check.append(result)\n",
    "    # ten slotte willen we dat de functie de lijst met resultaten teruggeeft\n",
    "    return check\n",
    "\n",
    "# Zonder commentaar ziet de functie er als volgt uit:\n",
    "def compareLists(numbers1, numbers2):\n",
    "    check = list()\n",
    "    for i in range(0, len(numbers1)):\n",
    "        a = numbers1[i]\n",
    "        b = numbers2[i]\n",
    "        if a > b:\n",
    "            result = \"higher\"\n",
    "            check.append(result)\n",
    "        elif a < b:\n",
    "            result = \"lower\"\n",
    "            check.append(result)\n",
    "        else:\n",
    "            result = \"equal\"\n",
    "            check.append(result)\n",
    "    return check"
   ]
  },
  {
   "cell_type": "code",
   "execution_count": 67,
   "metadata": {},
   "outputs": [
    {
     "data": {
      "text/plain": [
       "['higher',\n",
       " 'lower',\n",
       " 'equal',\n",
       " 'higher',\n",
       " 'equal',\n",
       " 'equal',\n",
       " 'equal',\n",
       " 'lower',\n",
       " 'equal',\n",
       " 'lower',\n",
       " 'lower',\n",
       " 'higher',\n",
       " 'higher',\n",
       " 'higher',\n",
       " 'higher',\n",
       " 'higher']"
      ]
     },
     "execution_count": 67,
     "metadata": {},
     "output_type": "execute_result"
    }
   ],
   "source": [
    "compareLists(numbers1, numbers2)"
   ]
  },
  {
   "cell_type": "markdown",
   "metadata": {},
   "source": [
    "We maken een nieuwe lijst van de resultaten uit de `compareLists()` functie. Hiervoor verzamelen we de resultaten uit de `compareLists()` functie in een variabele. Deze variable noemen we `compResults`. "
   ]
  },
  {
   "cell_type": "code",
   "execution_count": 68,
   "metadata": {},
   "outputs": [
    {
     "data": {
      "text/plain": [
       "['higher',\n",
       " 'lower',\n",
       " 'equal',\n",
       " 'higher',\n",
       " 'equal',\n",
       " 'equal',\n",
       " 'equal',\n",
       " 'lower',\n",
       " 'equal',\n",
       " 'lower',\n",
       " 'lower',\n",
       " 'higher',\n",
       " 'higher',\n",
       " 'higher',\n",
       " 'higher',\n",
       " 'higher']"
      ]
     },
     "execution_count": 68,
     "metadata": {},
     "output_type": "execute_result"
    }
   ],
   "source": [
    "compResults = compareLists(numbers1, numbers2)\n",
    "compResults"
   ]
  },
  {
   "cell_type": "markdown",
   "metadata": {},
   "source": [
    "Vervolgens gaan we een functie schrijven die de resultaten in volledige zinnen uitspreekt. Hiervoor gebruiken we de resultaten uit de vorige functie `compResults` samen met de twee lijsten met nummers `numbers1` en `numbers2`."
   ]
  },
  {
   "cell_type": "code",
   "execution_count": 69,
   "metadata": {},
   "outputs": [],
   "source": [
    "# print resultaten\n",
    "\n",
    "def sayCompare(numbers1, numbers2, compResults):\n",
    "    # omdat we ieder resultaat in de lijst 'compResults' willen gebruiken, schrijven we een loop\n",
    "    for i in range(0, len(compResults)):\n",
    "        # de zinsopbouw is voor getallen die gelijk zijn net evan anders, daarom gebruiken\n",
    "        # we een if-statement om dit op te vangen\n",
    "        if compResults[i] == \"equal\":\n",
    "            print(str(numbers1[i]) + \" is \" + compResults[i] + \" to \" + str(numbers2[i]) )\n",
    "        else:\n",
    "            print(str(numbers1[i]) + \" is \" + compResults[i] + \" than \" + str(numbers2[i]) )\n",
    "        "
   ]
  },
  {
   "cell_type": "code",
   "execution_count": 70,
   "metadata": {},
   "outputs": [
    {
     "name": "stdout",
     "output_type": "stream",
     "text": [
      "14 is higher than 13\n",
      "15 is lower than 16\n",
      "17 is equal to 17\n",
      "24 is higher than 22\n",
      "26 is equal to 26\n",
      "27 is equal to 27\n",
      "30 is equal to 30\n",
      "33 is lower than 34\n",
      "37 is equal to 37\n",
      "39 is lower than 40\n",
      "40 is lower than 41\n",
      "45 is higher than 42\n",
      "49 is higher than 45\n",
      "52 is higher than 48\n",
      "53 is higher than 49\n",
      "61 is higher than 53\n"
     ]
    }
   ],
   "source": [
    "sayCompare(numbers1, numbers2, compResults)"
   ]
  }
 ],
 "metadata": {
  "kernelspec": {
   "display_name": "Python 2",
   "language": "python",
   "name": "python2"
  },
  "language_info": {
   "codemirror_mode": {
    "name": "ipython",
    "version": 2
   },
   "file_extension": ".py",
   "mimetype": "text/x-python",
   "name": "python",
   "nbconvert_exporter": "python",
   "pygments_lexer": "ipython2",
   "version": "2.7.10"
  }
 },
 "nbformat": 4,
 "nbformat_minor": 2
}
